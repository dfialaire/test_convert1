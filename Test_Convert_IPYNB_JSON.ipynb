{
 "cells": [
  {
   "cell_type": "markdown",
   "id": "d6336571",
   "metadata": {
    "deletable": false,
    "editable": false
   },
   "source": [
    "<h1>Coucou</h1>\n",
    "<span style=\"color:blue\"><b>Trop cool</b></span>"
   ]
  },
  {
   "cell_type": "code",
   "execution_count": null,
   "id": "b1095e6a",
   "metadata": {},
   "outputs": [],
   "source": [
    "b = 0\n",
    "for a in range(2):\n",
    "    a +=1"
   ]
  },
  {
   "cell_type": "code",
   "execution_count": null,
   "id": "50dbe05d",
   "metadata": {
    "deletable": false
   },
   "outputs": [],
   "source": [
    "c = 0\n",
    "for d in range(12):\n",
    "    d +=1"
   ]
  },
  {
   "cell_type": "markdown",
   "id": "bd76049a",
   "metadata": {},
   "source": [
    "c'est super !!"
   ]
  },
  {
   "cell_type": "code",
   "execution_count": null,
   "id": "4adb9579",
   "metadata": {},
   "outputs": [],
   "source": [
    "d = 0\n",
    "for e in range(120):\n",
    "    e +=1"
   ]
  }
 ],
 "metadata": {
  "celltoolbar": "Format de la Cellule Texte Brut",
  "kernelspec": {
   "display_name": "Python 3 (ipykernel)",
   "language": "python",
   "name": "python3"
  },
  "language_info": {
   "codemirror_mode": {
    "name": "ipython",
    "version": 3
   },
   "file_extension": ".py",
   "mimetype": "text/x-python",
   "name": "python",
   "nbconvert_exporter": "python",
   "pygments_lexer": "ipython3",
   "version": "3.9.13"
  }
 },
 "nbformat": 4,
 "nbformat_minor": 5
}
